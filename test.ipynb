{
 "cells": [
  {
   "cell_type": "code",
   "execution_count": 1,
   "metadata": {},
   "outputs": [],
   "source": [
    "from dataclasses import dataclass\n",
    "\n",
    "@dataclass\n",
    "class PubMedMetadata:\n",
    "    title: str\n",
    "    authors: str\n",
    "    pubmed_id: str\n",
    "    keywords: str"
   ]
  },
  {
   "cell_type": "code",
   "execution_count": 2,
   "metadata": {},
   "outputs": [],
   "source": [
    "metadata = PubMedMetadata(\n",
    "    title=\"Hello\",\n",
    "    authors=\"there\",\n",
    "    pubmed_id=\"How\",\n",
    "    keywords=\"are\",\n",
    ")"
   ]
  },
  {
   "cell_type": "code",
   "execution_count": 5,
   "metadata": {},
   "outputs": [
    {
     "data": {
      "text/plain": [
       "{'title': 'Hello', 'authors': 'there', 'pubmed_id': 'How', 'keywords': 'are'}"
      ]
     },
     "execution_count": 5,
     "metadata": {},
     "output_type": "execute_result"
    }
   ],
   "source": [
    "metadata.__dict__"
   ]
  },
  {
   "cell_type": "code",
   "execution_count": 1,
   "metadata": {},
   "outputs": [],
   "source": [
    "from rag_from_scratch import query_pubmed, OpenAIChatBot, OpenAIRetriever"
   ]
  },
  {
   "cell_type": "code",
   "execution_count": 2,
   "metadata": {},
   "outputs": [],
   "source": [
    "pubmed_docs,pubmed_metadata = query_pubmed(\"asthma\",MAX_RESULTS=10)"
   ]
  },
  {
   "cell_type": "code",
   "execution_count": 3,
   "metadata": {},
   "outputs": [],
   "source": [
    "retriever = OpenAIRetriever(pubmed_docs,pubmed_metadata,collection_name=\"asthma_collection\")"
   ]
  },
  {
   "cell_type": "code",
   "execution_count": 4,
   "metadata": {},
   "outputs": [],
   "source": [
    "# retriever.build_database()"
   ]
  },
  {
   "cell_type": "code",
   "execution_count": 4,
   "metadata": {},
   "outputs": [],
   "source": [
    "collection = retriever.load_database()"
   ]
  },
  {
   "cell_type": "code",
   "execution_count": 5,
   "metadata": {},
   "outputs": [],
   "source": [
    "res = retriever.query(\n",
    "    question=\"What is the main reason of Asthma\",collection=collection,num_results=2\n",
    ")"
   ]
  },
  {
   "cell_type": "code",
   "execution_count": 12,
   "metadata": {},
   "outputs": [],
   "source": [
    "context = [doc + \"\\n\" for doc in res['documents'][0]]\n",
    "context_str = \"\\n\".join(context)\n",
    "\n",
    "format_prompt = \"\"\"\n",
    "---------------------\n",
    "Context: {context_str}\n",
    "---------------------\n",
    "\n",
    "Question: {question}\n",
    "\n",
    "Answer:\n",
    "\"\"\"\n",
    "\n",
    "prompt = format_prompt.format(context_str=context_str,question=\"What is the main reason of Asthma\")"
   ]
  },
  {
   "cell_type": "code",
   "execution_count": 11,
   "metadata": {},
   "outputs": [],
   "source": [
    "openai_chat_model = OpenAIChatBot(system=\"You are a helpful assistant that can answer questions from the provided context about PubMed abstracts.\\n Be faithful to the context and answer from the context only and if it is not mentioned in the context, then say that you don't know.\")"
   ]
  },
  {
   "cell_type": "code",
   "execution_count": 13,
   "metadata": {},
   "outputs": [
    {
     "data": {
      "text/plain": [
       "('The main reason for asthma is not explicitly mentioned in the context provided.',\n",
       " CompletionUsage(completion_tokens=14, prompt_tokens=603, total_tokens=617))"
      ]
     },
     "execution_count": 13,
     "metadata": {},
     "output_type": "execute_result"
    }
   ],
   "source": [
    "openai_chat_model(prompt)"
   ]
  },
  {
   "cell_type": "code",
   "execution_count": 15,
   "metadata": {},
   "outputs": [
    {
     "name": "stdout",
     "output_type": "stream",
     "text": [
      "You are a helpful assistant that can answer questions from the provided context about PubMed abstracts.\n",
      " Be faithful to the context and answer from the context only and if it is not mentioned in the context, then say that you don't know.\n",
      "\n",
      "---------------------\n",
      "Context: Female hormones and obesity have an impact on women with asthma. We aimed to describe how these components affect asthma inflammatory processes.\n",
      "Sex hormones [FSH, LH, estradiol (E2), estrone (E1), testosterone and Δ4 androstenedione (A4)] and serum IL1β, IL13, IL17a, IL-5, IL6, TNF-a were measured from 11 to18 pre- and postmenopausal women with asthma.\n",
      "Premenopausal normal weight women revealed higher levels of IL5 and IL17a than obese women on both days of the menstrual cycle (IL5: D1: 6.4 vs 1.4 pg/ml, \n",
      "Obesity shows a protective role in asthma through the suppression of IL5 and IL17. Estrogens seem to inhibit Th1 and Th2 inflammation, while androgens have a dual role with negative and positive correlations with neutrophilic biomarkers.\n",
      "\n",
      "Recurrent wheezing in preschool children is heterogeneous and results from numerous genetic and environmental risk factors, which result in the same final clinical manifestation of acute episodes of wheezing but have distinct underlying mechanisms. Effective disease-modifying approaches, therefore, need to target the pathways driving the symptoms. We have good evidence to show that targeting airway eosinophilia alone in early-life preschool wheezing and using inhaled corticosteroids is not disease-modifying. Although airway remodelling develops early in preschool wheezing, the challenge is identifying suitable treatments for structural airway changes. There is increasing evidence for the role of lower airway bacterial infection contributing to wheeze episodes, but clinical trials investigating the impact of targeted antibiotic treatment on disease modification are needed. There is also increasing data supporting an association between lower airway neutrophilia and wheezing in a subgroup of preschool children, but direct causation and the role of neutrophil function remain unknown. Finally, there is encouraging preliminary data for the role of inactivated mixed bacterial lysates in children with non-allergic, infection-associated wheeze episodes, but the impact on longer-term outcomes and their mechanism of action is unknown. This review outlines a range of potential novel targets and approaches that may enable secondary prevention of asthma from preschool wheezing. In parallel, the potential for harm when interventions are introduced indiscriminately is highlighted. Some of the challenges that need to be addressed, including trial designs allowing tailored interventions, the need for non-invasive biomarkers for targeted interventions, and ensuring extended and long-term follow-up after intervention, are highlighted.\n",
      "\n",
      "---------------------\n",
      "\n",
      "Question: What is the main reason of Asthma\n",
      "\n",
      "Answer:\n",
      "The main reason for asthma is not explicitly mentioned in the context provided.\n"
     ]
    }
   ],
   "source": [
    "print(openai_chat_model.inspect_chat_history(1))"
   ]
  },
  {
   "cell_type": "code",
   "execution_count": null,
   "metadata": {},
   "outputs": [],
   "source": []
  }
 ],
 "metadata": {
  "kernelspec": {
   "display_name": ".venv",
   "language": "python",
   "name": "python3"
  },
  "language_info": {
   "codemirror_mode": {
    "name": "ipython",
    "version": 3
   },
   "file_extension": ".py",
   "mimetype": "text/x-python",
   "name": "python",
   "nbconvert_exporter": "python",
   "pygments_lexer": "ipython3",
   "version": "3.10.12"
  }
 },
 "nbformat": 4,
 "nbformat_minor": 2
}
